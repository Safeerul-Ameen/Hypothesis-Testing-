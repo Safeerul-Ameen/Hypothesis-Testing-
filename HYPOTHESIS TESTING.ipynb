{
 "cells": [
  {
   "cell_type": "markdown",
   "id": "ed9d4d1f",
   "metadata": {},
   "source": [
    "# HYPOTHESIS TEST"
   ]
  },
  {
   "cell_type": "markdown",
   "id": "972c6a60",
   "metadata": {},
   "source": [
    "Bombay hospitality Ltd. operates a franchise model for producing exotic Norwegian dinners throughout New England. The operating cost for a franchise in a week (W) is given by the equation W = 1,000 + 5X, where X represents the number of units produced in a week. Recent feedback from restaurant owners suggests that this cost model may no longer be accurate, as their observed weekly operating costs are higher.\n",
    "\n",
    "**Objective:**\n",
    "To investigate the restaurant owners' claim about the increase in weekly operating costs using hypothesis testing.\n",
    "Data Provided:\n",
    "* The theoretical weekly operating cost model: W = 1,000 + 5X\n",
    "* Sample of 25 restaurants with a mean weekly cost of Rs. 3,050\n",
    "* Number of units produced in a week (X) follows a normal distribution with a mean (μ) of 600 units and a standard deviation (σ) of 25 units"
   ]
  },
  {
   "cell_type": "markdown",
   "id": "6cda8044",
   "metadata": {},
   "source": [
    "### 1. State the Hypotheses statement:"
   ]
  },
  {
   "cell_type": "markdown",
   "id": "e60fceaa",
   "metadata": {},
   "source": [
    "* Null Hypothesis (𝐻o): The mean weekly operating cost is equal to the theoretical cost.\n",
    " **Ho: μ=μ0**\n",
    "* Alternative Hypothesis (Ha): The mean weekly operating cost is higher than the theoretical cost.\n",
    " **Ha: μ>μ0** \n",
    "* μ is the observed mean weekly cost.\n",
    "* μ0 is the theoretical mean weekly cost based on the cost model."
   ]
  },
  {
   "cell_type": "markdown",
   "id": "254e9dfa",
   "metadata": {},
   "source": [
    "### 2. Calculate the Test Statistic:"
   ]
  },
  {
   "cell_type": "code",
   "execution_count": 15,
   "id": "d5f50a51",
   "metadata": {},
   "outputs": [],
   "source": [
    "# import libraries\n",
    "import pandas as pd\n",
    "import numpy as np\n",
    "import scipy.stats as stats\n",
    "import math\n",
    "import warnings\n",
    "warnings.filterwarnings('ignore')"
   ]
  },
  {
   "cell_type": "code",
   "execution_count": 16,
   "id": "82e044e9",
   "metadata": {},
   "outputs": [],
   "source": [
    "# Given data\n",
    "sample_mean = 3050  # Rs.\n",
    "theoretical_mean = 1000 + 5 * 600  # Rs.\n",
    "sigma = 5 * 25  # \n",
    "n = 25  # sample size"
   ]
  },
  {
   "cell_type": "code",
   "execution_count": 17,
   "id": "0489b012",
   "metadata": {},
   "outputs": [
    {
     "data": {
      "text/plain": [
       "-38.0"
      ]
     },
     "execution_count": 17,
     "metadata": {},
     "output_type": "execute_result"
    }
   ],
   "source": [
    "# Step 2: Calculate the test statistic\n",
    "test_statistic = (sample_mean - theoretical_mean) / (sigma / np.sqrt(n))\n",
    "test_statistic"
   ]
  },
  {
   "cell_type": "markdown",
   "id": "1b2a6bbf",
   "metadata": {},
   "source": [
    "### 3. Determine the Critical Value:"
   ]
  },
  {
   "cell_type": "code",
   "execution_count": 18,
   "id": "c8338b6c",
   "metadata": {},
   "outputs": [
    {
     "data": {
      "text/plain": [
       "1.6448536269514722"
      ]
     },
     "execution_count": 18,
     "metadata": {},
     "output_type": "execute_result"
    }
   ],
   "source": [
    "# Z-critical value for one-tailed test\n",
    "alpha = 0.05\n",
    "critical_value = stats.norm.ppf(1 - alpha)\n",
    "critical_value"
   ]
  },
  {
   "cell_type": "markdown",
   "id": "c0908a52",
   "metadata": {},
   "source": [
    "### 4. Make a Decision:"
   ]
  },
  {
   "cell_type": "code",
   "execution_count": 19,
   "id": "0b9deebd",
   "metadata": {},
   "outputs": [
    {
     "data": {
      "text/plain": [
       "(-38.0, 1.6448536269514722)"
      ]
     },
     "execution_count": 19,
     "metadata": {},
     "output_type": "execute_result"
    }
   ],
   "source": [
    "(test_statistic,critical_value)"
   ]
  },
  {
   "cell_type": "markdown",
   "id": "f5aab781",
   "metadata": {},
   "source": [
    "**Since the test statistic −38.0 is far less than the critical value 1.645, it falls in the rejection region of the null hypothesis.**"
   ]
  },
  {
   "cell_type": "markdown",
   "id": "4c1a87b3",
   "metadata": {},
   "source": [
    "### 5. Conclusion:"
   ]
  },
  {
   "cell_type": "markdown",
   "id": "3b8320b6",
   "metadata": {},
   "source": [
    "***Given that the test statistic is significantly lower than the critical value, we fail to reject the null hypothesis. This result suggests that there isn't sufficient evidence to support the restaurant owners' claim that the weekly operating costs are higher than the model suggests.***"
   ]
  },
  {
   "cell_type": "markdown",
   "id": "895666b3",
   "metadata": {},
   "source": [
    "# CHI-SQUARE TEST"
   ]
  },
  {
   "cell_type": "markdown",
   "id": "3e9e1d0a",
   "metadata": {},
   "source": [
    " Mizzare Corporation has collected data on customer satisfaction levels for two types of smart home devices: Smart Thermostats and Smart Lights. They want to determine if there's a significant association between the type of device purchased and the customer's satisfaction level."
   ]
  },
  {
   "cell_type": "markdown",
   "id": "5557de7e",
   "metadata": {},
   "source": [
    "### Step 1: State the Hypotheses:\n",
    "**Null Hypothesis (Ho)**: There is no significant association between the type of smart home device purchased and the customer satisfaction level. In other words, the two variables are independent.\n",
    "\n",
    "**Alternative Hypothesis (Ha)**: There is a significant association between the type of smart home device purchased and the customer satisfaction level. In other words, the two variables are not independent."
   ]
  },
  {
   "cell_type": "markdown",
   "id": "33b372da",
   "metadata": {},
   "source": [
    "### 2. Compute the Chi-Square Statistic:"
   ]
  },
  {
   "cell_type": "code",
   "execution_count": 1,
   "id": "dac446e9",
   "metadata": {},
   "outputs": [
    {
     "data": {
      "text/plain": [
       "array([[ 48.,  72.],\n",
       "       [ 72., 108.],\n",
       "       [ 60.,  90.],\n",
       "       [ 32.,  48.],\n",
       "       [ 28.,  42.]])"
      ]
     },
     "execution_count": 1,
     "metadata": {},
     "output_type": "execute_result"
    }
   ],
   "source": [
    "import numpy as np\n",
    "import scipy.stats as stats\n",
    "# Given data\n",
    "observed = np.array([\n",
    "    [50, 70],\n",
    "    [80, 100],\n",
    "    [60, 90],\n",
    "    [30, 50],\n",
    "    [20, 50]\n",
    "])\n",
    "# Step 2: Calculate the expected frequencies\n",
    "row_totals = observed.sum(axis=1)\n",
    "col_totals = observed.sum(axis=0)\n",
    "grand_total = observed.sum()\n",
    "expected = np.outer(row_totals, col_totals) / grand_total\n",
    "expected"
   ]
  },
  {
   "cell_type": "code",
   "execution_count": 2,
   "id": "a5cd70c5",
   "metadata": {},
   "outputs": [
    {
     "data": {
      "text/plain": [
       "5.638227513227513"
      ]
     },
     "execution_count": 2,
     "metadata": {},
     "output_type": "execute_result"
    }
   ],
   "source": [
    "# Calculate the Chi-Square statistic\n",
    "chi_square_statistic = ((observed - expected) ** 2 / expected).sum()\n",
    "chi_square_statistic"
   ]
  },
  {
   "cell_type": "markdown",
   "id": "b7666978",
   "metadata": {},
   "source": [
    "### 3. Determine the Critical Value:"
   ]
  },
  {
   "cell_type": "code",
   "execution_count": 5,
   "id": "e2c5b851",
   "metadata": {},
   "outputs": [
    {
     "data": {
      "text/plain": [
       "4"
      ]
     },
     "execution_count": 5,
     "metadata": {},
     "output_type": "execute_result"
    }
   ],
   "source": [
    "# Degrees of freedom: (r - 1) * (c - 1)\n",
    "df = (observed.shape[0] - 1) * (observed.shape[1] - 1)\n",
    "df"
   ]
  },
  {
   "cell_type": "code",
   "execution_count": 6,
   "id": "7abc077e",
   "metadata": {},
   "outputs": [
    {
     "data": {
      "text/plain": [
       "(5.638227513227513, 9.487729036781154, 4)"
      ]
     },
     "execution_count": 6,
     "metadata": {},
     "output_type": "execute_result"
    }
   ],
   "source": [
    "# Determine the critical value from the Chi-Square distribution table\n",
    "alpha = 0.05\n",
    "critical_value = stats.chi2.ppf(1 - alpha, df)\n",
    "\n",
    "chi_square_statistic, critical_value, df"
   ]
  },
  {
   "cell_type": "markdown",
   "id": "a6479c86",
   "metadata": {},
   "source": [
    "**Since the Chi-Square statistic 5.64 is less than the critical value 9.49, we fail to reject the null hypothesis.**"
   ]
  },
  {
   "cell_type": "markdown",
   "id": "bed6965e",
   "metadata": {},
   "source": [
    "### Conclusion\n",
    "**Based on the analysis, there isn't enough evidence to suggest a significant association between the type of smart home device purchased (Smart Thermostats vs. Smart Lights) and the customer satisfaction level. Therefore, the data supports the conclusion that customer satisfaction is independent of the type of smart home device purchased.**"
   ]
  },
  {
   "cell_type": "code",
   "execution_count": null,
   "id": "994290eb",
   "metadata": {},
   "outputs": [],
   "source": []
  }
 ],
 "metadata": {
  "kernelspec": {
   "display_name": "Python 3 (ipykernel)",
   "language": "python",
   "name": "python3"
  },
  "language_info": {
   "codemirror_mode": {
    "name": "ipython",
    "version": 3
   },
   "file_extension": ".py",
   "mimetype": "text/x-python",
   "name": "python",
   "nbconvert_exporter": "python",
   "pygments_lexer": "ipython3",
   "version": "3.11.7"
  }
 },
 "nbformat": 4,
 "nbformat_minor": 5
}
